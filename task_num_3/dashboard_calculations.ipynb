{
 "cells": [
  {
   "cell_type": "code",
   "execution_count": 94,
   "id": "initial_id",
   "metadata": {
    "collapsed": true,
    "ExecuteTime": {
     "end_time": "2024-09-05T13:35:03.076825Z",
     "start_time": "2024-09-05T13:35:03.074213Z"
    }
   },
   "outputs": [],
   "source": [
    "import pandas as pd\n",
    "import numpy as np"
   ]
  },
  {
   "cell_type": "code",
   "outputs": [
    {
     "data": {
      "text/plain": "          date media_souce     cost  installs  activations  expected_revenue\n0   2023-11-01        Meta  3189.69       959          175         3401.7000\n1   2023-11-02        Meta  3062.85      1071          161         4303.6100\n2   2023-11-03        Meta  3116.61       994          189         3210.6500\n3   2023-11-04        Meta  3111.15      1022          175         3583.8500\n4   2023-11-05        Meta  3297.28      1157          161         3346.8800\n5   2023-11-06        Meta  3365.81      1064          182         3443.4100\n6   2023-11-07        Meta  3085.32      1024          189         3701.4800\n7   2023-11-08        Meta  3220.14      1084          182         4102.3200\n8   2023-11-09        Meta  3174.43      1057          182         4063.8400\n9   2023-11-10        Meta  3133.27      1011          189         3536.2200\n10  2023-11-11        Meta  3293.71       932          168         3649.9200\n11  2023-11-12        Meta  3200.26       977          182         2825.5100\n12  2023-11-13        Meta  3230.64       945          189         3889.8300\n13  2023-11-14        Meta  3047.17       756          182         3666.4300\n14  2023-11-15        Meta  3267.25       838          168         4165.4900\n15  2023-11-16        Meta  3132.99       907          161         4444.3000\n16  2023-11-17        Meta  3128.09       958          175         4309.1000\n17  2023-11-18        Meta  3091.41       851          189         4259.4000\n18  2023-11-19        Meta  3095.82       907          217         4210.4000\n19  2023-11-20        Meta  3077.20       876          217         3481.2900\n20  2023-11-21        Meta  3102.47       869          210         3957.7400\n21  2023-11-22        Meta  3100.65       907          217         4634.2200\n22  2023-11-23        Meta  3310.86       840          206         4543.5600\n23  2023-11-24        Meta  3221.33       902          197         3743.6900\n24  2023-11-25        Meta  3151.12       801          199         4191.4200\n25  2023-11-26        Meta  3123.89       790          209         4243.8900\n26  2023-11-27        Meta  3249.05       868          212         4039.2300\n27  2023-11-28        Meta  3306.03       788          189         4741.9100\n28  2023-11-29        Meta  3221.54       751          192         4005.4000\n29  2023-11-30        Meta  3223.92       756          195         3876.9200\n30  2023-11-01      Tiktok  1363.12       451           76         1703.9200\n31  2023-11-02      Tiktok  1308.91       457           70         1534.4000\n32  2023-11-03      Tiktok  1331.88       498           82         1807.2800\n33  2023-11-04      Tiktok  1329.55       514           92         1761.8000\n34  2023-11-05      Tiktok  1409.09       392           64         1560.9600\n35  2023-11-06      Tiktok  1438.38       384           68         1657.1600\n36  2023-11-07      Tiktok  1318.51       406           56         1107.5680\n37  2023-11-08      Tiktok  1376.13       471           70         1776.3900\n38  2023-11-09      Tiktok  1492.25       463           76         1921.1280\n39  2023-11-10      Tiktok  1472.90       512           86         1795.5080\n40  2023-11-11      Tiktok  1548.33       558           75         2050.9500\n41  2023-11-12      Tiktok  1504.39       419           64         1375.6160\n42  2023-11-13      Tiktok  1518.68       390           59         1459.6010\n43  2023-11-14      Tiktok  1432.43       452           74         1765.3662\n44  2023-11-15      Tiktok  1675.51       448           72         1759.7736\n45  2023-11-16      Tiktok  1606.66       452           74         1969.6950\n46  2023-11-17      Tiktok  1604.15       470           82         2044.4814\n47  2023-11-18      Tiktok  1585.34       595           75         1810.2825\n48  2023-11-19      Tiktok  1587.60       452           74         1809.5220\n49  2023-11-20      Tiktok  1578.05       429           62         1476.1890\n50  2023-11-21      Tiktok  1657.30       421           68         1787.7132\n51  2023-11-22      Tiktok  1656.33       457           72         1914.7752\n52  2023-11-23      Tiktok  1768.63       416           70         1803.6480\n53  2023-11-24      Tiktok  1720.80       477           82         2204.8816\n54  2023-11-25      Tiktok  1683.29       559           85         2216.0690\n55  2023-11-26      Tiktok  1668.75       442           74         1987.0628\n56  2023-11-27      Tiktok  1735.60       450           74         1804.6972\n57  2023-11-28      Tiktok  1766.04       430           73         1815.0428\n58  2023-11-29      Tiktok  1720.91       454           75         2217.9600\n59  2023-11-30      Tiktok  1722.18       465           79         2107.8306",
      "text/html": "<div>\n<style scoped>\n    .dataframe tbody tr th:only-of-type {\n        vertical-align: middle;\n    }\n\n    .dataframe tbody tr th {\n        vertical-align: top;\n    }\n\n    .dataframe thead th {\n        text-align: right;\n    }\n</style>\n<table border=\"1\" class=\"dataframe\">\n  <thead>\n    <tr style=\"text-align: right;\">\n      <th></th>\n      <th>date</th>\n      <th>media_souce</th>\n      <th>cost</th>\n      <th>installs</th>\n      <th>activations</th>\n      <th>expected_revenue</th>\n    </tr>\n  </thead>\n  <tbody>\n    <tr>\n      <th>0</th>\n      <td>2023-11-01</td>\n      <td>Meta</td>\n      <td>3189.69</td>\n      <td>959</td>\n      <td>175</td>\n      <td>3401.7000</td>\n    </tr>\n    <tr>\n      <th>1</th>\n      <td>2023-11-02</td>\n      <td>Meta</td>\n      <td>3062.85</td>\n      <td>1071</td>\n      <td>161</td>\n      <td>4303.6100</td>\n    </tr>\n    <tr>\n      <th>2</th>\n      <td>2023-11-03</td>\n      <td>Meta</td>\n      <td>3116.61</td>\n      <td>994</td>\n      <td>189</td>\n      <td>3210.6500</td>\n    </tr>\n    <tr>\n      <th>3</th>\n      <td>2023-11-04</td>\n      <td>Meta</td>\n      <td>3111.15</td>\n      <td>1022</td>\n      <td>175</td>\n      <td>3583.8500</td>\n    </tr>\n    <tr>\n      <th>4</th>\n      <td>2023-11-05</td>\n      <td>Meta</td>\n      <td>3297.28</td>\n      <td>1157</td>\n      <td>161</td>\n      <td>3346.8800</td>\n    </tr>\n    <tr>\n      <th>5</th>\n      <td>2023-11-06</td>\n      <td>Meta</td>\n      <td>3365.81</td>\n      <td>1064</td>\n      <td>182</td>\n      <td>3443.4100</td>\n    </tr>\n    <tr>\n      <th>6</th>\n      <td>2023-11-07</td>\n      <td>Meta</td>\n      <td>3085.32</td>\n      <td>1024</td>\n      <td>189</td>\n      <td>3701.4800</td>\n    </tr>\n    <tr>\n      <th>7</th>\n      <td>2023-11-08</td>\n      <td>Meta</td>\n      <td>3220.14</td>\n      <td>1084</td>\n      <td>182</td>\n      <td>4102.3200</td>\n    </tr>\n    <tr>\n      <th>8</th>\n      <td>2023-11-09</td>\n      <td>Meta</td>\n      <td>3174.43</td>\n      <td>1057</td>\n      <td>182</td>\n      <td>4063.8400</td>\n    </tr>\n    <tr>\n      <th>9</th>\n      <td>2023-11-10</td>\n      <td>Meta</td>\n      <td>3133.27</td>\n      <td>1011</td>\n      <td>189</td>\n      <td>3536.2200</td>\n    </tr>\n    <tr>\n      <th>10</th>\n      <td>2023-11-11</td>\n      <td>Meta</td>\n      <td>3293.71</td>\n      <td>932</td>\n      <td>168</td>\n      <td>3649.9200</td>\n    </tr>\n    <tr>\n      <th>11</th>\n      <td>2023-11-12</td>\n      <td>Meta</td>\n      <td>3200.26</td>\n      <td>977</td>\n      <td>182</td>\n      <td>2825.5100</td>\n    </tr>\n    <tr>\n      <th>12</th>\n      <td>2023-11-13</td>\n      <td>Meta</td>\n      <td>3230.64</td>\n      <td>945</td>\n      <td>189</td>\n      <td>3889.8300</td>\n    </tr>\n    <tr>\n      <th>13</th>\n      <td>2023-11-14</td>\n      <td>Meta</td>\n      <td>3047.17</td>\n      <td>756</td>\n      <td>182</td>\n      <td>3666.4300</td>\n    </tr>\n    <tr>\n      <th>14</th>\n      <td>2023-11-15</td>\n      <td>Meta</td>\n      <td>3267.25</td>\n      <td>838</td>\n      <td>168</td>\n      <td>4165.4900</td>\n    </tr>\n    <tr>\n      <th>15</th>\n      <td>2023-11-16</td>\n      <td>Meta</td>\n      <td>3132.99</td>\n      <td>907</td>\n      <td>161</td>\n      <td>4444.3000</td>\n    </tr>\n    <tr>\n      <th>16</th>\n      <td>2023-11-17</td>\n      <td>Meta</td>\n      <td>3128.09</td>\n      <td>958</td>\n      <td>175</td>\n      <td>4309.1000</td>\n    </tr>\n    <tr>\n      <th>17</th>\n      <td>2023-11-18</td>\n      <td>Meta</td>\n      <td>3091.41</td>\n      <td>851</td>\n      <td>189</td>\n      <td>4259.4000</td>\n    </tr>\n    <tr>\n      <th>18</th>\n      <td>2023-11-19</td>\n      <td>Meta</td>\n      <td>3095.82</td>\n      <td>907</td>\n      <td>217</td>\n      <td>4210.4000</td>\n    </tr>\n    <tr>\n      <th>19</th>\n      <td>2023-11-20</td>\n      <td>Meta</td>\n      <td>3077.20</td>\n      <td>876</td>\n      <td>217</td>\n      <td>3481.2900</td>\n    </tr>\n    <tr>\n      <th>20</th>\n      <td>2023-11-21</td>\n      <td>Meta</td>\n      <td>3102.47</td>\n      <td>869</td>\n      <td>210</td>\n      <td>3957.7400</td>\n    </tr>\n    <tr>\n      <th>21</th>\n      <td>2023-11-22</td>\n      <td>Meta</td>\n      <td>3100.65</td>\n      <td>907</td>\n      <td>217</td>\n      <td>4634.2200</td>\n    </tr>\n    <tr>\n      <th>22</th>\n      <td>2023-11-23</td>\n      <td>Meta</td>\n      <td>3310.86</td>\n      <td>840</td>\n      <td>206</td>\n      <td>4543.5600</td>\n    </tr>\n    <tr>\n      <th>23</th>\n      <td>2023-11-24</td>\n      <td>Meta</td>\n      <td>3221.33</td>\n      <td>902</td>\n      <td>197</td>\n      <td>3743.6900</td>\n    </tr>\n    <tr>\n      <th>24</th>\n      <td>2023-11-25</td>\n      <td>Meta</td>\n      <td>3151.12</td>\n      <td>801</td>\n      <td>199</td>\n      <td>4191.4200</td>\n    </tr>\n    <tr>\n      <th>25</th>\n      <td>2023-11-26</td>\n      <td>Meta</td>\n      <td>3123.89</td>\n      <td>790</td>\n      <td>209</td>\n      <td>4243.8900</td>\n    </tr>\n    <tr>\n      <th>26</th>\n      <td>2023-11-27</td>\n      <td>Meta</td>\n      <td>3249.05</td>\n      <td>868</td>\n      <td>212</td>\n      <td>4039.2300</td>\n    </tr>\n    <tr>\n      <th>27</th>\n      <td>2023-11-28</td>\n      <td>Meta</td>\n      <td>3306.03</td>\n      <td>788</td>\n      <td>189</td>\n      <td>4741.9100</td>\n    </tr>\n    <tr>\n      <th>28</th>\n      <td>2023-11-29</td>\n      <td>Meta</td>\n      <td>3221.54</td>\n      <td>751</td>\n      <td>192</td>\n      <td>4005.4000</td>\n    </tr>\n    <tr>\n      <th>29</th>\n      <td>2023-11-30</td>\n      <td>Meta</td>\n      <td>3223.92</td>\n      <td>756</td>\n      <td>195</td>\n      <td>3876.9200</td>\n    </tr>\n    <tr>\n      <th>30</th>\n      <td>2023-11-01</td>\n      <td>Tiktok</td>\n      <td>1363.12</td>\n      <td>451</td>\n      <td>76</td>\n      <td>1703.9200</td>\n    </tr>\n    <tr>\n      <th>31</th>\n      <td>2023-11-02</td>\n      <td>Tiktok</td>\n      <td>1308.91</td>\n      <td>457</td>\n      <td>70</td>\n      <td>1534.4000</td>\n    </tr>\n    <tr>\n      <th>32</th>\n      <td>2023-11-03</td>\n      <td>Tiktok</td>\n      <td>1331.88</td>\n      <td>498</td>\n      <td>82</td>\n      <td>1807.2800</td>\n    </tr>\n    <tr>\n      <th>33</th>\n      <td>2023-11-04</td>\n      <td>Tiktok</td>\n      <td>1329.55</td>\n      <td>514</td>\n      <td>92</td>\n      <td>1761.8000</td>\n    </tr>\n    <tr>\n      <th>34</th>\n      <td>2023-11-05</td>\n      <td>Tiktok</td>\n      <td>1409.09</td>\n      <td>392</td>\n      <td>64</td>\n      <td>1560.9600</td>\n    </tr>\n    <tr>\n      <th>35</th>\n      <td>2023-11-06</td>\n      <td>Tiktok</td>\n      <td>1438.38</td>\n      <td>384</td>\n      <td>68</td>\n      <td>1657.1600</td>\n    </tr>\n    <tr>\n      <th>36</th>\n      <td>2023-11-07</td>\n      <td>Tiktok</td>\n      <td>1318.51</td>\n      <td>406</td>\n      <td>56</td>\n      <td>1107.5680</td>\n    </tr>\n    <tr>\n      <th>37</th>\n      <td>2023-11-08</td>\n      <td>Tiktok</td>\n      <td>1376.13</td>\n      <td>471</td>\n      <td>70</td>\n      <td>1776.3900</td>\n    </tr>\n    <tr>\n      <th>38</th>\n      <td>2023-11-09</td>\n      <td>Tiktok</td>\n      <td>1492.25</td>\n      <td>463</td>\n      <td>76</td>\n      <td>1921.1280</td>\n    </tr>\n    <tr>\n      <th>39</th>\n      <td>2023-11-10</td>\n      <td>Tiktok</td>\n      <td>1472.90</td>\n      <td>512</td>\n      <td>86</td>\n      <td>1795.5080</td>\n    </tr>\n    <tr>\n      <th>40</th>\n      <td>2023-11-11</td>\n      <td>Tiktok</td>\n      <td>1548.33</td>\n      <td>558</td>\n      <td>75</td>\n      <td>2050.9500</td>\n    </tr>\n    <tr>\n      <th>41</th>\n      <td>2023-11-12</td>\n      <td>Tiktok</td>\n      <td>1504.39</td>\n      <td>419</td>\n      <td>64</td>\n      <td>1375.6160</td>\n    </tr>\n    <tr>\n      <th>42</th>\n      <td>2023-11-13</td>\n      <td>Tiktok</td>\n      <td>1518.68</td>\n      <td>390</td>\n      <td>59</td>\n      <td>1459.6010</td>\n    </tr>\n    <tr>\n      <th>43</th>\n      <td>2023-11-14</td>\n      <td>Tiktok</td>\n      <td>1432.43</td>\n      <td>452</td>\n      <td>74</td>\n      <td>1765.3662</td>\n    </tr>\n    <tr>\n      <th>44</th>\n      <td>2023-11-15</td>\n      <td>Tiktok</td>\n      <td>1675.51</td>\n      <td>448</td>\n      <td>72</td>\n      <td>1759.7736</td>\n    </tr>\n    <tr>\n      <th>45</th>\n      <td>2023-11-16</td>\n      <td>Tiktok</td>\n      <td>1606.66</td>\n      <td>452</td>\n      <td>74</td>\n      <td>1969.6950</td>\n    </tr>\n    <tr>\n      <th>46</th>\n      <td>2023-11-17</td>\n      <td>Tiktok</td>\n      <td>1604.15</td>\n      <td>470</td>\n      <td>82</td>\n      <td>2044.4814</td>\n    </tr>\n    <tr>\n      <th>47</th>\n      <td>2023-11-18</td>\n      <td>Tiktok</td>\n      <td>1585.34</td>\n      <td>595</td>\n      <td>75</td>\n      <td>1810.2825</td>\n    </tr>\n    <tr>\n      <th>48</th>\n      <td>2023-11-19</td>\n      <td>Tiktok</td>\n      <td>1587.60</td>\n      <td>452</td>\n      <td>74</td>\n      <td>1809.5220</td>\n    </tr>\n    <tr>\n      <th>49</th>\n      <td>2023-11-20</td>\n      <td>Tiktok</td>\n      <td>1578.05</td>\n      <td>429</td>\n      <td>62</td>\n      <td>1476.1890</td>\n    </tr>\n    <tr>\n      <th>50</th>\n      <td>2023-11-21</td>\n      <td>Tiktok</td>\n      <td>1657.30</td>\n      <td>421</td>\n      <td>68</td>\n      <td>1787.7132</td>\n    </tr>\n    <tr>\n      <th>51</th>\n      <td>2023-11-22</td>\n      <td>Tiktok</td>\n      <td>1656.33</td>\n      <td>457</td>\n      <td>72</td>\n      <td>1914.7752</td>\n    </tr>\n    <tr>\n      <th>52</th>\n      <td>2023-11-23</td>\n      <td>Tiktok</td>\n      <td>1768.63</td>\n      <td>416</td>\n      <td>70</td>\n      <td>1803.6480</td>\n    </tr>\n    <tr>\n      <th>53</th>\n      <td>2023-11-24</td>\n      <td>Tiktok</td>\n      <td>1720.80</td>\n      <td>477</td>\n      <td>82</td>\n      <td>2204.8816</td>\n    </tr>\n    <tr>\n      <th>54</th>\n      <td>2023-11-25</td>\n      <td>Tiktok</td>\n      <td>1683.29</td>\n      <td>559</td>\n      <td>85</td>\n      <td>2216.0690</td>\n    </tr>\n    <tr>\n      <th>55</th>\n      <td>2023-11-26</td>\n      <td>Tiktok</td>\n      <td>1668.75</td>\n      <td>442</td>\n      <td>74</td>\n      <td>1987.0628</td>\n    </tr>\n    <tr>\n      <th>56</th>\n      <td>2023-11-27</td>\n      <td>Tiktok</td>\n      <td>1735.60</td>\n      <td>450</td>\n      <td>74</td>\n      <td>1804.6972</td>\n    </tr>\n    <tr>\n      <th>57</th>\n      <td>2023-11-28</td>\n      <td>Tiktok</td>\n      <td>1766.04</td>\n      <td>430</td>\n      <td>73</td>\n      <td>1815.0428</td>\n    </tr>\n    <tr>\n      <th>58</th>\n      <td>2023-11-29</td>\n      <td>Tiktok</td>\n      <td>1720.91</td>\n      <td>454</td>\n      <td>75</td>\n      <td>2217.9600</td>\n    </tr>\n    <tr>\n      <th>59</th>\n      <td>2023-11-30</td>\n      <td>Tiktok</td>\n      <td>1722.18</td>\n      <td>465</td>\n      <td>79</td>\n      <td>2107.8306</td>\n    </tr>\n  </tbody>\n</table>\n</div>"
     },
     "execution_count": 95,
     "metadata": {},
     "output_type": "execute_result"
    }
   ],
   "source": [
    "df_social_networks = pd.read_csv('task_3_data.csv')\n",
    "df_social_networks"
   ],
   "metadata": {
    "collapsed": false,
    "ExecuteTime": {
     "end_time": "2024-09-05T13:35:03.475033Z",
     "start_time": "2024-09-05T13:35:03.461558Z"
    }
   },
   "id": "2c362e2dab3ee129",
   "execution_count": 95
  },
  {
   "cell_type": "markdown",
   "source": [
    "Checking if any 0 values in the dataframe"
   ],
   "metadata": {
    "collapsed": false
   },
   "id": "14e338842c078fdc"
  },
  {
   "cell_type": "code",
   "outputs": [
    {
     "data": {
      "text/plain": "np.False_"
     },
     "execution_count": 96,
     "metadata": {},
     "output_type": "execute_result"
    }
   ],
   "source": [
    "df_social_networks.isin([0, \"0\"]).values.any()"
   ],
   "metadata": {
    "collapsed": false,
    "ExecuteTime": {
     "end_time": "2024-09-05T13:35:04.650189Z",
     "start_time": "2024-09-05T13:35:04.647154Z"
    }
   },
   "id": "307ee0b44f700be5",
   "execution_count": 96
  },
  {
   "cell_type": "markdown",
   "source": [
    "Checking for datatypes, and NaN values. \n",
    "P.S. since dataframe is small, I won't change data types to 32-16 bit"
   ],
   "metadata": {
    "collapsed": false
   },
   "id": "8245c1912352434b"
  },
  {
   "cell_type": "code",
   "outputs": [
    {
     "name": "stdout",
     "output_type": "stream",
     "text": [
      "<class 'pandas.core.frame.DataFrame'>\n",
      "RangeIndex: 60 entries, 0 to 59\n",
      "Data columns (total 6 columns):\n",
      " #   Column            Non-Null Count  Dtype  \n",
      "---  ------            --------------  -----  \n",
      " 0   date              60 non-null     object \n",
      " 1   media_souce       60 non-null     object \n",
      " 2   cost              60 non-null     float64\n",
      " 3   installs          60 non-null     int64  \n",
      " 4   activations       60 non-null     int64  \n",
      " 5   expected_revenue  60 non-null     float64\n",
      "dtypes: float64(2), int64(2), object(2)\n",
      "memory usage: 2.9+ KB\n"
     ]
    }
   ],
   "source": [
    "df_social_networks.info()"
   ],
   "metadata": {
    "collapsed": false,
    "ExecuteTime": {
     "end_time": "2024-09-05T13:35:05.659381Z",
     "start_time": "2024-09-05T13:35:05.654677Z"
    }
   },
   "id": "e80fe3c3d718532d",
   "execution_count": 97
  },
  {
   "cell_type": "code",
   "outputs": [
    {
     "data": {
      "text/plain": "          date media_souce     cost  installs  activations  expected_revenue\n0   2023-11-01        Meta  3189.69       959          175         3401.7000\n1   2023-11-02        Meta  3062.85      1071          161         4303.6100\n2   2023-11-03        Meta  3116.61       994          189         3210.6500\n3   2023-11-04        Meta  3111.15      1022          175         3583.8500\n4   2023-11-05        Meta  3297.28      1157          161         3346.8800\n5   2023-11-06        Meta  3365.81      1064          182         3443.4100\n6   2023-11-07        Meta  3085.32      1024          189         3701.4800\n7   2023-11-08        Meta  3220.14      1084          182         4102.3200\n8   2023-11-09        Meta  3174.43      1057          182         4063.8400\n9   2023-11-10        Meta  3133.27      1011          189         3536.2200\n10  2023-11-11        Meta  3293.71       932          168         3649.9200\n11  2023-11-12        Meta  3200.26       977          182         2825.5100\n12  2023-11-13        Meta  3230.64       945          189         3889.8300\n13  2023-11-14        Meta  3047.17       756          182         3666.4300\n14  2023-11-15        Meta  3267.25       838          168         4165.4900\n15  2023-11-16        Meta  3132.99       907          161         4444.3000\n16  2023-11-17        Meta  3128.09       958          175         4309.1000\n17  2023-11-18        Meta  3091.41       851          189         4259.4000\n18  2023-11-19        Meta  3095.82       907          217         4210.4000\n19  2023-11-20        Meta  3077.20       876          217         3481.2900\n20  2023-11-21        Meta  3102.47       869          210         3957.7400\n21  2023-11-22        Meta  3100.65       907          217         4634.2200\n22  2023-11-23        Meta  3310.86       840          206         4543.5600\n23  2023-11-24        Meta  3221.33       902          197         3743.6900\n24  2023-11-25        Meta  3151.12       801          199         4191.4200\n25  2023-11-26        Meta  3123.89       790          209         4243.8900\n26  2023-11-27        Meta  3249.05       868          212         4039.2300\n27  2023-11-28        Meta  3306.03       788          189         4741.9100\n28  2023-11-29        Meta  3221.54       751          192         4005.4000\n29  2023-11-30        Meta  3223.92       756          195         3876.9200\n30  2023-11-01      Tiktok  1363.12       451           76         1703.9200\n31  2023-11-02      Tiktok  1308.91       457           70         1534.4000\n32  2023-11-03      Tiktok  1331.88       498           82         1807.2800\n33  2023-11-04      Tiktok  1329.55       514           92         1761.8000\n34  2023-11-05      Tiktok  1409.09       392           64         1560.9600\n35  2023-11-06      Tiktok  1438.38       384           68         1657.1600\n36  2023-11-07      Tiktok  1318.51       406           56         1107.5680\n37  2023-11-08      Tiktok  1376.13       471           70         1776.3900\n38  2023-11-09      Tiktok  1492.25       463           76         1921.1280\n39  2023-11-10      Tiktok  1472.90       512           86         1795.5080\n40  2023-11-11      Tiktok  1548.33       558           75         2050.9500\n41  2023-11-12      Tiktok  1504.39       419           64         1375.6160\n42  2023-11-13      Tiktok  1518.68       390           59         1459.6010\n43  2023-11-14      Tiktok  1432.43       452           74         1765.3662\n44  2023-11-15      Tiktok  1675.51       448           72         1759.7736\n45  2023-11-16      Tiktok  1606.66       452           74         1969.6950\n46  2023-11-17      Tiktok  1604.15       470           82         2044.4814\n47  2023-11-18      Tiktok  1585.34       595           75         1810.2825\n48  2023-11-19      Tiktok  1587.60       452           74         1809.5220\n49  2023-11-20      Tiktok  1578.05       429           62         1476.1890\n50  2023-11-21      Tiktok  1657.30       421           68         1787.7132\n51  2023-11-22      Tiktok  1656.33       457           72         1914.7752\n52  2023-11-23      Tiktok  1768.63       416           70         1803.6480\n53  2023-11-24      Tiktok  1720.80       477           82         2204.8816\n54  2023-11-25      Tiktok  1683.29       559           85         2216.0690\n55  2023-11-26      Tiktok  1668.75       442           74         1987.0628\n56  2023-11-27      Tiktok  1735.60       450           74         1804.6972\n57  2023-11-28      Tiktok  1766.04       430           73         1815.0428\n58  2023-11-29      Tiktok  1720.91       454           75         2217.9600\n59  2023-11-30      Tiktok  1722.18       465           79         2107.8306",
      "text/html": "<div>\n<style scoped>\n    .dataframe tbody tr th:only-of-type {\n        vertical-align: middle;\n    }\n\n    .dataframe tbody tr th {\n        vertical-align: top;\n    }\n\n    .dataframe thead th {\n        text-align: right;\n    }\n</style>\n<table border=\"1\" class=\"dataframe\">\n  <thead>\n    <tr style=\"text-align: right;\">\n      <th></th>\n      <th>date</th>\n      <th>media_souce</th>\n      <th>cost</th>\n      <th>installs</th>\n      <th>activations</th>\n      <th>expected_revenue</th>\n    </tr>\n  </thead>\n  <tbody>\n    <tr>\n      <th>0</th>\n      <td>2023-11-01</td>\n      <td>Meta</td>\n      <td>3189.69</td>\n      <td>959</td>\n      <td>175</td>\n      <td>3401.7000</td>\n    </tr>\n    <tr>\n      <th>1</th>\n      <td>2023-11-02</td>\n      <td>Meta</td>\n      <td>3062.85</td>\n      <td>1071</td>\n      <td>161</td>\n      <td>4303.6100</td>\n    </tr>\n    <tr>\n      <th>2</th>\n      <td>2023-11-03</td>\n      <td>Meta</td>\n      <td>3116.61</td>\n      <td>994</td>\n      <td>189</td>\n      <td>3210.6500</td>\n    </tr>\n    <tr>\n      <th>3</th>\n      <td>2023-11-04</td>\n      <td>Meta</td>\n      <td>3111.15</td>\n      <td>1022</td>\n      <td>175</td>\n      <td>3583.8500</td>\n    </tr>\n    <tr>\n      <th>4</th>\n      <td>2023-11-05</td>\n      <td>Meta</td>\n      <td>3297.28</td>\n      <td>1157</td>\n      <td>161</td>\n      <td>3346.8800</td>\n    </tr>\n    <tr>\n      <th>5</th>\n      <td>2023-11-06</td>\n      <td>Meta</td>\n      <td>3365.81</td>\n      <td>1064</td>\n      <td>182</td>\n      <td>3443.4100</td>\n    </tr>\n    <tr>\n      <th>6</th>\n      <td>2023-11-07</td>\n      <td>Meta</td>\n      <td>3085.32</td>\n      <td>1024</td>\n      <td>189</td>\n      <td>3701.4800</td>\n    </tr>\n    <tr>\n      <th>7</th>\n      <td>2023-11-08</td>\n      <td>Meta</td>\n      <td>3220.14</td>\n      <td>1084</td>\n      <td>182</td>\n      <td>4102.3200</td>\n    </tr>\n    <tr>\n      <th>8</th>\n      <td>2023-11-09</td>\n      <td>Meta</td>\n      <td>3174.43</td>\n      <td>1057</td>\n      <td>182</td>\n      <td>4063.8400</td>\n    </tr>\n    <tr>\n      <th>9</th>\n      <td>2023-11-10</td>\n      <td>Meta</td>\n      <td>3133.27</td>\n      <td>1011</td>\n      <td>189</td>\n      <td>3536.2200</td>\n    </tr>\n    <tr>\n      <th>10</th>\n      <td>2023-11-11</td>\n      <td>Meta</td>\n      <td>3293.71</td>\n      <td>932</td>\n      <td>168</td>\n      <td>3649.9200</td>\n    </tr>\n    <tr>\n      <th>11</th>\n      <td>2023-11-12</td>\n      <td>Meta</td>\n      <td>3200.26</td>\n      <td>977</td>\n      <td>182</td>\n      <td>2825.5100</td>\n    </tr>\n    <tr>\n      <th>12</th>\n      <td>2023-11-13</td>\n      <td>Meta</td>\n      <td>3230.64</td>\n      <td>945</td>\n      <td>189</td>\n      <td>3889.8300</td>\n    </tr>\n    <tr>\n      <th>13</th>\n      <td>2023-11-14</td>\n      <td>Meta</td>\n      <td>3047.17</td>\n      <td>756</td>\n      <td>182</td>\n      <td>3666.4300</td>\n    </tr>\n    <tr>\n      <th>14</th>\n      <td>2023-11-15</td>\n      <td>Meta</td>\n      <td>3267.25</td>\n      <td>838</td>\n      <td>168</td>\n      <td>4165.4900</td>\n    </tr>\n    <tr>\n      <th>15</th>\n      <td>2023-11-16</td>\n      <td>Meta</td>\n      <td>3132.99</td>\n      <td>907</td>\n      <td>161</td>\n      <td>4444.3000</td>\n    </tr>\n    <tr>\n      <th>16</th>\n      <td>2023-11-17</td>\n      <td>Meta</td>\n      <td>3128.09</td>\n      <td>958</td>\n      <td>175</td>\n      <td>4309.1000</td>\n    </tr>\n    <tr>\n      <th>17</th>\n      <td>2023-11-18</td>\n      <td>Meta</td>\n      <td>3091.41</td>\n      <td>851</td>\n      <td>189</td>\n      <td>4259.4000</td>\n    </tr>\n    <tr>\n      <th>18</th>\n      <td>2023-11-19</td>\n      <td>Meta</td>\n      <td>3095.82</td>\n      <td>907</td>\n      <td>217</td>\n      <td>4210.4000</td>\n    </tr>\n    <tr>\n      <th>19</th>\n      <td>2023-11-20</td>\n      <td>Meta</td>\n      <td>3077.20</td>\n      <td>876</td>\n      <td>217</td>\n      <td>3481.2900</td>\n    </tr>\n    <tr>\n      <th>20</th>\n      <td>2023-11-21</td>\n      <td>Meta</td>\n      <td>3102.47</td>\n      <td>869</td>\n      <td>210</td>\n      <td>3957.7400</td>\n    </tr>\n    <tr>\n      <th>21</th>\n      <td>2023-11-22</td>\n      <td>Meta</td>\n      <td>3100.65</td>\n      <td>907</td>\n      <td>217</td>\n      <td>4634.2200</td>\n    </tr>\n    <tr>\n      <th>22</th>\n      <td>2023-11-23</td>\n      <td>Meta</td>\n      <td>3310.86</td>\n      <td>840</td>\n      <td>206</td>\n      <td>4543.5600</td>\n    </tr>\n    <tr>\n      <th>23</th>\n      <td>2023-11-24</td>\n      <td>Meta</td>\n      <td>3221.33</td>\n      <td>902</td>\n      <td>197</td>\n      <td>3743.6900</td>\n    </tr>\n    <tr>\n      <th>24</th>\n      <td>2023-11-25</td>\n      <td>Meta</td>\n      <td>3151.12</td>\n      <td>801</td>\n      <td>199</td>\n      <td>4191.4200</td>\n    </tr>\n    <tr>\n      <th>25</th>\n      <td>2023-11-26</td>\n      <td>Meta</td>\n      <td>3123.89</td>\n      <td>790</td>\n      <td>209</td>\n      <td>4243.8900</td>\n    </tr>\n    <tr>\n      <th>26</th>\n      <td>2023-11-27</td>\n      <td>Meta</td>\n      <td>3249.05</td>\n      <td>868</td>\n      <td>212</td>\n      <td>4039.2300</td>\n    </tr>\n    <tr>\n      <th>27</th>\n      <td>2023-11-28</td>\n      <td>Meta</td>\n      <td>3306.03</td>\n      <td>788</td>\n      <td>189</td>\n      <td>4741.9100</td>\n    </tr>\n    <tr>\n      <th>28</th>\n      <td>2023-11-29</td>\n      <td>Meta</td>\n      <td>3221.54</td>\n      <td>751</td>\n      <td>192</td>\n      <td>4005.4000</td>\n    </tr>\n    <tr>\n      <th>29</th>\n      <td>2023-11-30</td>\n      <td>Meta</td>\n      <td>3223.92</td>\n      <td>756</td>\n      <td>195</td>\n      <td>3876.9200</td>\n    </tr>\n    <tr>\n      <th>30</th>\n      <td>2023-11-01</td>\n      <td>Tiktok</td>\n      <td>1363.12</td>\n      <td>451</td>\n      <td>76</td>\n      <td>1703.9200</td>\n    </tr>\n    <tr>\n      <th>31</th>\n      <td>2023-11-02</td>\n      <td>Tiktok</td>\n      <td>1308.91</td>\n      <td>457</td>\n      <td>70</td>\n      <td>1534.4000</td>\n    </tr>\n    <tr>\n      <th>32</th>\n      <td>2023-11-03</td>\n      <td>Tiktok</td>\n      <td>1331.88</td>\n      <td>498</td>\n      <td>82</td>\n      <td>1807.2800</td>\n    </tr>\n    <tr>\n      <th>33</th>\n      <td>2023-11-04</td>\n      <td>Tiktok</td>\n      <td>1329.55</td>\n      <td>514</td>\n      <td>92</td>\n      <td>1761.8000</td>\n    </tr>\n    <tr>\n      <th>34</th>\n      <td>2023-11-05</td>\n      <td>Tiktok</td>\n      <td>1409.09</td>\n      <td>392</td>\n      <td>64</td>\n      <td>1560.9600</td>\n    </tr>\n    <tr>\n      <th>35</th>\n      <td>2023-11-06</td>\n      <td>Tiktok</td>\n      <td>1438.38</td>\n      <td>384</td>\n      <td>68</td>\n      <td>1657.1600</td>\n    </tr>\n    <tr>\n      <th>36</th>\n      <td>2023-11-07</td>\n      <td>Tiktok</td>\n      <td>1318.51</td>\n      <td>406</td>\n      <td>56</td>\n      <td>1107.5680</td>\n    </tr>\n    <tr>\n      <th>37</th>\n      <td>2023-11-08</td>\n      <td>Tiktok</td>\n      <td>1376.13</td>\n      <td>471</td>\n      <td>70</td>\n      <td>1776.3900</td>\n    </tr>\n    <tr>\n      <th>38</th>\n      <td>2023-11-09</td>\n      <td>Tiktok</td>\n      <td>1492.25</td>\n      <td>463</td>\n      <td>76</td>\n      <td>1921.1280</td>\n    </tr>\n    <tr>\n      <th>39</th>\n      <td>2023-11-10</td>\n      <td>Tiktok</td>\n      <td>1472.90</td>\n      <td>512</td>\n      <td>86</td>\n      <td>1795.5080</td>\n    </tr>\n    <tr>\n      <th>40</th>\n      <td>2023-11-11</td>\n      <td>Tiktok</td>\n      <td>1548.33</td>\n      <td>558</td>\n      <td>75</td>\n      <td>2050.9500</td>\n    </tr>\n    <tr>\n      <th>41</th>\n      <td>2023-11-12</td>\n      <td>Tiktok</td>\n      <td>1504.39</td>\n      <td>419</td>\n      <td>64</td>\n      <td>1375.6160</td>\n    </tr>\n    <tr>\n      <th>42</th>\n      <td>2023-11-13</td>\n      <td>Tiktok</td>\n      <td>1518.68</td>\n      <td>390</td>\n      <td>59</td>\n      <td>1459.6010</td>\n    </tr>\n    <tr>\n      <th>43</th>\n      <td>2023-11-14</td>\n      <td>Tiktok</td>\n      <td>1432.43</td>\n      <td>452</td>\n      <td>74</td>\n      <td>1765.3662</td>\n    </tr>\n    <tr>\n      <th>44</th>\n      <td>2023-11-15</td>\n      <td>Tiktok</td>\n      <td>1675.51</td>\n      <td>448</td>\n      <td>72</td>\n      <td>1759.7736</td>\n    </tr>\n    <tr>\n      <th>45</th>\n      <td>2023-11-16</td>\n      <td>Tiktok</td>\n      <td>1606.66</td>\n      <td>452</td>\n      <td>74</td>\n      <td>1969.6950</td>\n    </tr>\n    <tr>\n      <th>46</th>\n      <td>2023-11-17</td>\n      <td>Tiktok</td>\n      <td>1604.15</td>\n      <td>470</td>\n      <td>82</td>\n      <td>2044.4814</td>\n    </tr>\n    <tr>\n      <th>47</th>\n      <td>2023-11-18</td>\n      <td>Tiktok</td>\n      <td>1585.34</td>\n      <td>595</td>\n      <td>75</td>\n      <td>1810.2825</td>\n    </tr>\n    <tr>\n      <th>48</th>\n      <td>2023-11-19</td>\n      <td>Tiktok</td>\n      <td>1587.60</td>\n      <td>452</td>\n      <td>74</td>\n      <td>1809.5220</td>\n    </tr>\n    <tr>\n      <th>49</th>\n      <td>2023-11-20</td>\n      <td>Tiktok</td>\n      <td>1578.05</td>\n      <td>429</td>\n      <td>62</td>\n      <td>1476.1890</td>\n    </tr>\n    <tr>\n      <th>50</th>\n      <td>2023-11-21</td>\n      <td>Tiktok</td>\n      <td>1657.30</td>\n      <td>421</td>\n      <td>68</td>\n      <td>1787.7132</td>\n    </tr>\n    <tr>\n      <th>51</th>\n      <td>2023-11-22</td>\n      <td>Tiktok</td>\n      <td>1656.33</td>\n      <td>457</td>\n      <td>72</td>\n      <td>1914.7752</td>\n    </tr>\n    <tr>\n      <th>52</th>\n      <td>2023-11-23</td>\n      <td>Tiktok</td>\n      <td>1768.63</td>\n      <td>416</td>\n      <td>70</td>\n      <td>1803.6480</td>\n    </tr>\n    <tr>\n      <th>53</th>\n      <td>2023-11-24</td>\n      <td>Tiktok</td>\n      <td>1720.80</td>\n      <td>477</td>\n      <td>82</td>\n      <td>2204.8816</td>\n    </tr>\n    <tr>\n      <th>54</th>\n      <td>2023-11-25</td>\n      <td>Tiktok</td>\n      <td>1683.29</td>\n      <td>559</td>\n      <td>85</td>\n      <td>2216.0690</td>\n    </tr>\n    <tr>\n      <th>55</th>\n      <td>2023-11-26</td>\n      <td>Tiktok</td>\n      <td>1668.75</td>\n      <td>442</td>\n      <td>74</td>\n      <td>1987.0628</td>\n    </tr>\n    <tr>\n      <th>56</th>\n      <td>2023-11-27</td>\n      <td>Tiktok</td>\n      <td>1735.60</td>\n      <td>450</td>\n      <td>74</td>\n      <td>1804.6972</td>\n    </tr>\n    <tr>\n      <th>57</th>\n      <td>2023-11-28</td>\n      <td>Tiktok</td>\n      <td>1766.04</td>\n      <td>430</td>\n      <td>73</td>\n      <td>1815.0428</td>\n    </tr>\n    <tr>\n      <th>58</th>\n      <td>2023-11-29</td>\n      <td>Tiktok</td>\n      <td>1720.91</td>\n      <td>454</td>\n      <td>75</td>\n      <td>2217.9600</td>\n    </tr>\n    <tr>\n      <th>59</th>\n      <td>2023-11-30</td>\n      <td>Tiktok</td>\n      <td>1722.18</td>\n      <td>465</td>\n      <td>79</td>\n      <td>2107.8306</td>\n    </tr>\n  </tbody>\n</table>\n</div>"
     },
     "execution_count": 98,
     "metadata": {},
     "output_type": "execute_result"
    }
   ],
   "source": [
    "df_social_networks"
   ],
   "metadata": {
    "collapsed": false,
    "ExecuteTime": {
     "end_time": "2024-09-05T13:35:06.159097Z",
     "start_time": "2024-09-05T13:35:06.147977Z"
    }
   },
   "id": "736510f79b9d6d2",
   "execution_count": 98
  },
  {
   "cell_type": "markdown",
   "source": [
    "Cutting objects (data/string) off and checking numbers correlations"
   ],
   "metadata": {
    "collapsed": false
   },
   "id": "8fe81bee92ed0a4e"
  },
  {
   "cell_type": "code",
   "outputs": [
    {
     "data": {
      "text/plain": "                      cost  installs  activations  expected_revenue\ncost              1.000000  0.932881     0.963749          0.947808\ninstalls          0.932881  1.000000     0.898338          0.868565\nactivations       0.963749  0.898338     1.000000          0.945999\nexpected_revenue  0.947808  0.868565     0.945999          1.000000",
      "text/html": "<div>\n<style scoped>\n    .dataframe tbody tr th:only-of-type {\n        vertical-align: middle;\n    }\n\n    .dataframe tbody tr th {\n        vertical-align: top;\n    }\n\n    .dataframe thead th {\n        text-align: right;\n    }\n</style>\n<table border=\"1\" class=\"dataframe\">\n  <thead>\n    <tr style=\"text-align: right;\">\n      <th></th>\n      <th>cost</th>\n      <th>installs</th>\n      <th>activations</th>\n      <th>expected_revenue</th>\n    </tr>\n  </thead>\n  <tbody>\n    <tr>\n      <th>cost</th>\n      <td>1.000000</td>\n      <td>0.932881</td>\n      <td>0.963749</td>\n      <td>0.947808</td>\n    </tr>\n    <tr>\n      <th>installs</th>\n      <td>0.932881</td>\n      <td>1.000000</td>\n      <td>0.898338</td>\n      <td>0.868565</td>\n    </tr>\n    <tr>\n      <th>activations</th>\n      <td>0.963749</td>\n      <td>0.898338</td>\n      <td>1.000000</td>\n      <td>0.945999</td>\n    </tr>\n    <tr>\n      <th>expected_revenue</th>\n      <td>0.947808</td>\n      <td>0.868565</td>\n      <td>0.945999</td>\n      <td>1.000000</td>\n    </tr>\n  </tbody>\n</table>\n</div>"
     },
     "execution_count": 99,
     "metadata": {},
     "output_type": "execute_result"
    }
   ],
   "source": [
    "df_social_networks.iloc[:, 2:].corr()"
   ],
   "metadata": {
    "collapsed": false,
    "ExecuteTime": {
     "end_time": "2024-09-05T13:35:08.062483Z",
     "start_time": "2024-09-05T13:35:08.057168Z"
    }
   },
   "id": "6d8a3b97089b5435",
   "execution_count": 99
  },
  {
   "cell_type": "markdown",
   "source": [
    "Calculating CPI (cost per install $), activation rate(%) and potential ROI (return on investment %)"
   ],
   "metadata": {
    "collapsed": false
   },
   "id": "c1f3b6bb61bc1c79"
  },
  {
   "cell_type": "code",
   "outputs": [],
   "source": [
    "df_social_networks[\"CPI\"] = df_social_networks[\"cost\"] / df_social_networks[\"installs\"]\n",
    "df_social_networks[\"activation_rate\"] = (\n",
    "    df_social_networks[\"activations\"] / df_social_networks[\"installs\"]\n",
    ") * 100\n",
    "df_social_networks[\"ROI\"] = (\n",
    "    (\n",
    "        df_social_networks[\"expected_revenue\"] - df_social_networks[\"cost\"]\n",
    "    ) / df_social_networks[\"cost\"]\n",
    ") * 100"
   ],
   "metadata": {
    "collapsed": false,
    "ExecuteTime": {
     "end_time": "2024-09-05T13:35:52.495126Z",
     "start_time": "2024-09-05T13:35:52.491532Z"
    }
   },
   "id": "6ba0a02e5282e352",
   "execution_count": 104
  },
  {
   "cell_type": "markdown",
   "source": [
    "Grouping data by media source"
   ],
   "metadata": {
    "collapsed": false
   },
   "id": "d6cf843285dcaf03"
  },
  {
   "cell_type": "code",
   "outputs": [
    {
     "data": {
      "text/plain": "                CPI  activation_rate      ROI\nmedia_souce                                  \nMeta         3.4928          20.8274  23.4318\nTiktok       3.4138          16.0257  16.0845",
      "text/html": "<div>\n<style scoped>\n    .dataframe tbody tr th:only-of-type {\n        vertical-align: middle;\n    }\n\n    .dataframe tbody tr th {\n        vertical-align: top;\n    }\n\n    .dataframe thead th {\n        text-align: right;\n    }\n</style>\n<table border=\"1\" class=\"dataframe\">\n  <thead>\n    <tr style=\"text-align: right;\">\n      <th></th>\n      <th>CPI</th>\n      <th>activation_rate</th>\n      <th>ROI</th>\n    </tr>\n    <tr>\n      <th>media_souce</th>\n      <th></th>\n      <th></th>\n      <th></th>\n    </tr>\n  </thead>\n  <tbody>\n    <tr>\n      <th>Meta</th>\n      <td>3.4928</td>\n      <td>20.8274</td>\n      <td>23.4318</td>\n    </tr>\n    <tr>\n      <th>Tiktok</th>\n      <td>3.4138</td>\n      <td>16.0257</td>\n      <td>16.0845</td>\n    </tr>\n  </tbody>\n</table>\n</div>"
     },
     "execution_count": 105,
     "metadata": {},
     "output_type": "execute_result"
    }
   ],
   "source": [
    "grouped_metrics = df_social_networks.groupby(\"media_souce\").agg({\n",
    "    \"CPI\": \"mean\",\n",
    "    \"activation_rate\": \"mean\",\n",
    "    \"ROI\": \"mean\"\n",
    "}).round(4)\n",
    "grouped_metrics"
   ],
   "metadata": {
    "collapsed": false,
    "ExecuteTime": {
     "end_time": "2024-09-05T13:35:53.435286Z",
     "start_time": "2024-09-05T13:35:53.427943Z"
    }
   },
   "id": "b4ff3389cec29705",
   "execution_count": 105
  },
  {
   "cell_type": "markdown",
   "source": [
    "Unload data to CSV"
   ],
   "metadata": {
    "collapsed": false
   },
   "id": "aecf9348d674d20"
  },
  {
   "cell_type": "code",
   "outputs": [],
   "source": [
    "grouped_metrics.to_csv('grouped_metrics.csv')"
   ],
   "metadata": {
    "collapsed": false,
    "ExecuteTime": {
     "end_time": "2024-09-05T13:35:54.748694Z",
     "start_time": "2024-09-05T13:35:54.745484Z"
    }
   },
   "id": "6ff89cba79f366bb",
   "execution_count": 106
  }
 ],
 "metadata": {
  "kernelspec": {
   "display_name": "Python 3",
   "language": "python",
   "name": "python3"
  },
  "language_info": {
   "codemirror_mode": {
    "name": "ipython",
    "version": 2
   },
   "file_extension": ".py",
   "mimetype": "text/x-python",
   "name": "python",
   "nbconvert_exporter": "python",
   "pygments_lexer": "ipython2",
   "version": "2.7.6"
  }
 },
 "nbformat": 4,
 "nbformat_minor": 5
}
