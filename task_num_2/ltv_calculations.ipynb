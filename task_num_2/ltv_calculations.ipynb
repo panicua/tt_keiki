{
 "cells": [
  {
   "cell_type": "code",
   "outputs": [],
   "source": [
    "import pandas as pd\n",
    "import numpy as np"
   ],
   "metadata": {
    "collapsed": false,
    "ExecuteTime": {
     "end_time": "2024-09-06T01:15:29.594870Z",
     "start_time": "2024-09-06T01:15:29.592795Z"
    }
   },
   "id": "9b508a52b4867a92",
   "execution_count": 9
  },
  {
   "cell_type": "markdown",
   "source": [
    "# Setting basic values that will be used in calculations"
   ],
   "metadata": {
    "collapsed": false
   },
   "id": "4b1f94c25d6044f2"
  },
  {
   "cell_type": "code",
   "outputs": [],
   "source": [
    "trial_price = 4.99\n",
    "subscription_fee = 29.99\n",
    "\n",
    "cohorts = pd.DataFrame({\n",
    "    \"Cohort\": [\"Oct 2023\", \"Nov 2023\"],\n",
    "    \"Trial starts\": [1250, 1173],\n",
    "    \"1st Month starts\": [614, 612],\n",
    "    \"2nd Month starts\": [325, None],\n",
    "    \"3rd Month starts\": [None, None],\n",
    "    \"4th Month starts\": [None, None],\n",
    "    \"5th Month starts\": [None, None],\n",
    "    \"6th Month starts\": [None, None],\n",
    "})\n",
    "\n",
    "old_retention_rates = {\n",
    "    \"to 0 Month\": 1.00,\n",
    "    \"to 1 Month\": 0.40,\n",
    "    \"to 2 Month\": 0.60,\n",
    "    \"to 3 Month\": 0.70,\n",
    "    \"to 4 Month\": 0.80,\n",
    "    \"to 5 Month\": 0.90,\n",
    "    \"to 6 Month\": 0.95,\n",
    "}"
   ],
   "metadata": {
    "collapsed": false,
    "ExecuteTime": {
     "end_time": "2024-09-06T01:15:29.599444Z",
     "start_time": "2024-09-06T01:15:29.595870Z"
    }
   },
   "id": "2742c79d744e18ab",
   "execution_count": 10
  },
  {
   "cell_type": "markdown",
   "source": [
    "## filling NaN values with old_retention_rates * previous_month_value since there are not enough info about new retention values"
   ],
   "metadata": {
    "collapsed": false
   },
   "id": "c725557a282e9a08"
  },
  {
   "cell_type": "code",
   "outputs": [
    {
     "data": {
      "text/plain": "     Cohort  Trial starts  1st Month starts  2nd Month starts  \\\n0  Oct 2023          1250               614             325.0   \n1  Nov 2023          1173               612             367.0   \n\n  3rd Month starts 4th Month starts 5th Month starts 6th Month starts  \n0              227              181              162              153  \n1              256              204              183              173  ",
      "text/html": "<div>\n<style scoped>\n    .dataframe tbody tr th:only-of-type {\n        vertical-align: middle;\n    }\n\n    .dataframe tbody tr th {\n        vertical-align: top;\n    }\n\n    .dataframe thead th {\n        text-align: right;\n    }\n</style>\n<table border=\"1\" class=\"dataframe\">\n  <thead>\n    <tr style=\"text-align: right;\">\n      <th></th>\n      <th>Cohort</th>\n      <th>Trial starts</th>\n      <th>1st Month starts</th>\n      <th>2nd Month starts</th>\n      <th>3rd Month starts</th>\n      <th>4th Month starts</th>\n      <th>5th Month starts</th>\n      <th>6th Month starts</th>\n    </tr>\n  </thead>\n  <tbody>\n    <tr>\n      <th>0</th>\n      <td>Oct 2023</td>\n      <td>1250</td>\n      <td>614</td>\n      <td>325.0</td>\n      <td>227</td>\n      <td>181</td>\n      <td>162</td>\n      <td>153</td>\n    </tr>\n    <tr>\n      <th>1</th>\n      <td>Nov 2023</td>\n      <td>1173</td>\n      <td>612</td>\n      <td>367.0</td>\n      <td>256</td>\n      <td>204</td>\n      <td>183</td>\n      <td>173</td>\n    </tr>\n  </tbody>\n</table>\n</div>"
     },
     "execution_count": 11,
     "metadata": {},
     "output_type": "execute_result"
    }
   ],
   "source": [
    "for i in range(0, len(cohorts)):\n",
    "    for j in range(1, len(cohorts.columns)):\n",
    "        if pd.isna(cohorts.iloc[i, j]):\n",
    "            cohorts.iloc[i, j] = np.int32(\n",
    "                old_retention_rates[f\"to {j - 1} Month\"] * cohorts.iloc[i, j - 1]\n",
    "            )\n",
    "    \n",
    "cohorts"
   ],
   "metadata": {
    "collapsed": false,
    "ExecuteTime": {
     "end_time": "2024-09-06T01:15:29.608657Z",
     "start_time": "2024-09-06T01:15:29.599444Z"
    }
   },
   "id": "b7326d940ecf4072",
   "execution_count": 11
  },
  {
   "cell_type": "markdown",
   "source": [
    "## Calculating LTV for each cohort (oct 2023, nov 2023)"
   ],
   "metadata": {
    "collapsed": false
   },
   "id": "c23c7a10f94467e6"
  },
  {
   "cell_type": "code",
   "outputs": [],
   "source": [
    "cohorts[\"LTV\"] = (\n",
    "        cohorts[\"Trial starts\"] * trial_price + \n",
    "        cohorts.iloc[:, 2:].sum(axis=1) * subscription_fee\n",
    ")"
   ],
   "metadata": {
    "collapsed": false,
    "ExecuteTime": {
     "end_time": "2024-09-06T01:15:29.613275Z",
     "start_time": "2024-09-06T01:15:29.609657Z"
    }
   },
   "id": "1e77f58e048ff0cc",
   "execution_count": 12
  },
  {
   "cell_type": "code",
   "outputs": [],
   "source": [
    "cohorts[\"LTV_per_user\"] = cohorts[\"LTV\"] / cohorts[\"Trial starts\"]"
   ],
   "metadata": {
    "collapsed": false,
    "ExecuteTime": {
     "end_time": "2024-09-06T01:15:29.617354Z",
     "start_time": "2024-09-06T01:15:29.613275Z"
    }
   },
   "id": "5949169166bde20e",
   "execution_count": 13
  },
  {
   "cell_type": "code",
   "outputs": [
    {
     "data": {
      "text/plain": "     Cohort       LTV LTV_per_user\n0  Oct 2023  56080.88    44.864704\n1  Nov 2023  59685.32    50.882626",
      "text/html": "<div>\n<style scoped>\n    .dataframe tbody tr th:only-of-type {\n        vertical-align: middle;\n    }\n\n    .dataframe tbody tr th {\n        vertical-align: top;\n    }\n\n    .dataframe thead th {\n        text-align: right;\n    }\n</style>\n<table border=\"1\" class=\"dataframe\">\n  <thead>\n    <tr style=\"text-align: right;\">\n      <th></th>\n      <th>Cohort</th>\n      <th>LTV</th>\n      <th>LTV_per_user</th>\n    </tr>\n  </thead>\n  <tbody>\n    <tr>\n      <th>0</th>\n      <td>Oct 2023</td>\n      <td>56080.88</td>\n      <td>44.864704</td>\n    </tr>\n    <tr>\n      <th>1</th>\n      <td>Nov 2023</td>\n      <td>59685.32</td>\n      <td>50.882626</td>\n    </tr>\n  </tbody>\n</table>\n</div>"
     },
     "execution_count": 14,
     "metadata": {},
     "output_type": "execute_result"
    }
   ],
   "source": [
    "cohorts_ltv = cohorts[[\"Cohort\", \"LTV\", \"LTV_per_user\"]]\n",
    "cohorts_ltv"
   ],
   "metadata": {
    "collapsed": false,
    "ExecuteTime": {
     "end_time": "2024-09-06T01:15:29.623437Z",
     "start_time": "2024-09-06T01:15:29.617354Z"
    }
   },
   "id": "9acc7d1efff51597",
   "execution_count": 14
  },
  {
   "cell_type": "markdown",
   "source": [
    "## We can also take an average of those cohorts and users to get more accurate, global LTV"
   ],
   "metadata": {
    "collapsed": false
   },
   "id": "30f4583399eb841a"
  },
  {
   "cell_type": "code",
   "outputs": [
    {
     "name": "stdout",
     "output_type": "stream",
     "text": [
      "Average LTV (all users) 57883.1 USD\n",
      "Average LTV per user 47.78 USD\n"
     ]
    }
   ],
   "source": [
    "all_users_ltv = round(cohorts_ltv[\"LTV\"].sum() / len(cohorts_ltv), 2)\n",
    "per_user_ltv = round(all_users_ltv / (cohorts[\"Trial starts\"].sum() / len(cohorts_ltv)), 2)\n",
    "print(f\"Average LTV (all users) {all_users_ltv} USD\")\n",
    "print(f\"Average LTV per user {per_user_ltv} USD\")"
   ],
   "metadata": {
    "collapsed": false,
    "ExecuteTime": {
     "end_time": "2024-09-06T01:15:29.627806Z",
     "start_time": "2024-09-06T01:15:29.623437Z"
    }
   },
   "id": "69a7ef5a388669ff",
   "execution_count": 15
  },
  {
   "cell_type": "markdown",
   "source": [
    "# Conclusion:\n",
    "### Each user who starts our new subscription model brings in approximately 47.78 USD in revenue.\n",
    "\n",
    "#### However, it's important to note that since the trial now costs $4.99 instead of being free, fewer people may try our product, potentially leading to a lower profit with new model. To fully understand the impact, we need to compare the LTV of the old subscription model with that of the new model. Additionally, we need more precise data on new retention rates, as we currently have only a few months of data. For the missing data, we relied on retention rates from the old model, which may not be entirely accurate for the new one.\n",
    "\n",
    "#### It would also be worth mentioning that employing machine learning, specifically linear regression on our retention rate data, could improve the accuracy of our predictions for how many users will start the new subscription model in the coming months (assuming the ML model is well-trained).\n"
   ],
   "metadata": {
    "collapsed": false
   },
   "id": "1935c1c61e6e7975"
  }
 ],
 "metadata": {
  "kernelspec": {
   "display_name": "Python 3",
   "language": "python",
   "name": "python3"
  },
  "language_info": {
   "codemirror_mode": {
    "name": "ipython",
    "version": 2
   },
   "file_extension": ".py",
   "mimetype": "text/x-python",
   "name": "python",
   "nbconvert_exporter": "python",
   "pygments_lexer": "ipython2",
   "version": "2.7.6"
  }
 },
 "nbformat": 4,
 "nbformat_minor": 5
}
